{
 "cells": [
  {
   "cell_type": "code",
   "execution_count": 2,
   "metadata": {},
   "outputs": [
    {
     "name": "stdout",
     "output_type": "stream",
     "text": [
      "9628.333333333334\n",
      "9628.333333333334\n",
      "9628.333333333334\n"
     ]
    }
   ],
   "source": [
    "class Emp:\n",
    "    count=0 \n",
    "    emps=[] \n",
    "    def __init__(self,name,family,salary,dept):\n",
    "        self.name=name\n",
    "        self.family=family\n",
    "        self.salary=salary\n",
    "        self.dept=dept\n",
    "        Emp.count=Emp.count+1 \n",
    "        Emp.emps.append(self) \n",
    "        \n",
    "\n",
    "    def average_salary(self):\n",
    "        return sum(emp.salary for emp in Emp.emps) / Emp.count\n",
    "    \n",
    "class Fulltime_Emp(Emp):\n",
    "        pass\n",
    "    \n",
    "\n",
    "#creating instances for above classes \n",
    "emp1=Emp(\"Sai Prakash\",\"Podapati\",9999,\"CS\")\n",
    "emp2=Emp(\"ASP\",\".net\",8888,\"CS\")\n",
    "full_time_emp = Fulltime_Emp(\"Uma\", \"Bankari\", 9998, \"Managment\")\n",
    "\n",
    "\n",
    "#Accessing the classes using instances \n",
    "print(emp1.average_salary())\n",
    "print(emp2.average_salary())\n",
    "print(full_time_emp.average_salary())"
   ]
  },
  {
   "cell_type": "code",
   "execution_count": 5,
   "metadata": {},
   "outputs": [
    {
     "name": "stdout",
     "output_type": "stream",
     "text": [
      "[[13.01345885 18.6416655   2.71126417  2.95176493  2.82556929]\n",
      " [15.11448164  4.85462904 17.01605015 19.976577   13.44515801]\n",
      " [15.04591039 10.89052114  9.13075522 15.19077867 10.53239743]\n",
      " [ 3.71362359  4.78911953  5.92488102  3.14479589 11.44156515]]\n"
     ]
    },
    {
     "data": {
      "text/plain": [
       "array([[13.01345885,  0.        ,  2.71126417,  2.95176493,  2.82556929],\n",
       "       [15.11448164,  4.85462904, 17.01605015,  0.        , 13.44515801],\n",
       "       [15.04591039, 10.89052114,  9.13075522,  0.        , 10.53239743],\n",
       "       [ 3.71362359,  4.78911953,  5.92488102,  3.14479589,  0.        ]])"
      ]
     },
     "execution_count": 5,
     "metadata": {},
     "output_type": "execute_result"
    }
   ],
   "source": [
    "import numpy as np \n",
    "\n",
    "sampl=np.random.uniform(low=1,high=20,size=20) \n",
    "reshape_arr=sampl.reshape((4,5)) \n",
    "print(reshape_arr)\n",
    "np.where(reshape_arr== np.max(reshape_arr, axis=1, keepdims=True), 0, reshape_arr)"
   ]
  }
 ],
 "metadata": {
  "kernelspec": {
   "display_name": "Python 3",
   "language": "python",
   "name": "python3"
  },
  "language_info": {
   "codemirror_mode": {
    "name": "ipython",
    "version": 3
   },
   "file_extension": ".py",
   "mimetype": "text/x-python",
   "name": "python",
   "nbconvert_exporter": "python",
   "pygments_lexer": "ipython3",
   "version": "3.11.4"
  },
  "orig_nbformat": 4
 },
 "nbformat": 4,
 "nbformat_minor": 2
}
