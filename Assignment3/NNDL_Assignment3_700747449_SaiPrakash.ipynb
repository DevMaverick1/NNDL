{
 "cells": [
  {
   "cell_type": "code",
   "execution_count": 2,
   "metadata": {},
   "outputs": [
    {
     "name": "stdout",
     "output_type": "stream",
     "text": [
      "9628.333333333334\n",
      "9628.333333333334\n",
      "9628.333333333334\n"
     ]
    }
   ],
   "source": [
    "class Emp:\n",
    "    count=0 \n",
    "    emps=[] \n",
    "    def __init__(self,name,family,salary,dept):\n",
    "        self.name=name\n",
    "        self.family=family\n",
    "        self.salary=salary\n",
    "        self.dept=dept\n",
    "        Emp.count=Emp.count+1 \n",
    "        Emp.emps.append(self) \n",
    "        \n",
    "\n",
    "    def average_salary(self):\n",
    "        return sum(emp.salary for emp in Emp.emps) / Emp.count\n",
    "    \n",
    "class Fulltime_Emp(Emp):\n",
    "        pass\n",
    "    \n",
    "\n",
    "#creating instances for above classes \n",
    "emp1=Emp(\"Sai Prakash\",\"Podapati\",9999,\"Developer\")\n",
    "emp2=Emp(\"ASP\",\".net\",8888,\"Tester\")\n",
    "full_time_emp = Fulltime_Emp(\"Uma\", \"Bankari\", 9998, \"Lead\")\n",
    "\n",
    "\n",
    "#Accessing the classes using instances \n",
    "print(emp1.average_salary())\n",
    "print(emp2.average_salary())\n",
    "print(full_time_emp.average_salary())"
   ]
  },
  {
   "cell_type": "code",
   "execution_count": 4,
   "metadata": {},
   "outputs": [
    {
     "ename": "TypeError",
     "evalue": "uniform() got an unexpected keyword argument 'min'",
     "output_type": "error",
     "traceback": [
      "\u001b[1;31m---------------------------------------------------------------------------\u001b[0m",
      "\u001b[1;31mTypeError\u001b[0m                                 Traceback (most recent call last)",
      "Cell \u001b[1;32mIn[4], line 3\u001b[0m\n\u001b[0;32m      1\u001b[0m \u001b[39mimport\u001b[39;00m \u001b[39mnumpy\u001b[39;00m \u001b[39mas\u001b[39;00m \u001b[39mnp\u001b[39;00m \n\u001b[1;32m----> 3\u001b[0m sampl\u001b[39m=\u001b[39mnp\u001b[39m.\u001b[39;49mrandom\u001b[39m.\u001b[39;49muniform(\u001b[39mmin\u001b[39;49m\u001b[39m=\u001b[39;49m\u001b[39m1\u001b[39;49m,\u001b[39mmax\u001b[39;49m\u001b[39m=\u001b[39;49m\u001b[39m20\u001b[39;49m,size\u001b[39m=\u001b[39;49m\u001b[39m20\u001b[39;49m) \n\u001b[0;32m      4\u001b[0m reshape_arr\u001b[39m=\u001b[39msampl\u001b[39m.\u001b[39mreshape((\u001b[39m4\u001b[39m,\u001b[39m5\u001b[39m)) \n\u001b[0;32m      5\u001b[0m \u001b[39mprint\u001b[39m(reshape_arr)\n",
      "File \u001b[1;32mmtrand.pyx:1049\u001b[0m, in \u001b[0;36mnumpy.random.mtrand.RandomState.uniform\u001b[1;34m()\u001b[0m\n",
      "\u001b[1;31mTypeError\u001b[0m: uniform() got an unexpected keyword argument 'min'"
     ]
    }
   ],
   "source": [
    "import numpy as np \n",
    "\n",
    "sampl=np.random.uniform(low=1,high=20,size=20) \n",
    "reshape_arr=sampl.reshape((4,5)) \n",
    "print(reshape_arr)\n",
    "np.where(reshape_arr== np.max(reshape_arr, axis=1, keepdims=True), 0, reshape_arr)"
   ]
  }
 ],
 "metadata": {
  "kernelspec": {
   "display_name": "Python 3",
   "language": "python",
   "name": "python3"
  },
  "language_info": {
   "codemirror_mode": {
    "name": "ipython",
    "version": 3
   },
   "file_extension": ".py",
   "mimetype": "text/x-python",
   "name": "python",
   "nbconvert_exporter": "python",
   "pygments_lexer": "ipython3",
   "version": "3.11.4"
  },
  "orig_nbformat": 4
 },
 "nbformat": 4,
 "nbformat_minor": 2
}
