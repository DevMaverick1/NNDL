{
 "cells": [
  {
   "cell_type": "code",
   "execution_count": 4,
   "id": "e2957013",
   "metadata": {},
   "outputs": [
    {
     "name": "stdout",
     "output_type": "stream",
     "text": [
      "Given string:  Python\n",
      "Reversed string: noht\n",
      "Addition: 50.0\n",
      "Subtraction: 10.0\n",
      "Multiplication: 600.0\n",
      "Division: 1.5\n"
     ]
    }
   ],
   "source": [
    "#1 a)\n",
    "#=======================================================\n",
    "input1 = input(\"Enter a string: \")\n",
    "print(\"Given string: \", input1)\n",
    "input1 = list(input1)\n",
    "if len(input1) >= 2:\n",
    "    del input1[:2]\n",
    "\n",
    "reversed_string = ''.join(input1[::-1])\n",
    "    \n",
    "print(\"Reversed string:\", reversed_string)\n",
    "\n",
    "# b)\n",
    "#========================================================\n",
    "num1 = float(input(\"Enter the first number: \"))\n",
    "num2 = float(input(\"Enter the second number: \"))\n",
    "\n",
    "print(\"Addition:\", num1 + num2)\n",
    "print(\"Subtraction:\", num1 - num2)\n",
    "print(\"Multiplication:\", num1 * num2)\n",
    "print(\"Division:\", num1 / num2)"
   ]
  },
  {
   "cell_type": "code",
   "execution_count": 5,
   "id": "a666e2a6",
   "metadata": {},
   "outputs": [
    {
     "name": "stdout",
     "output_type": "stream",
     "text": [
      "Modified sentence: I love coding in pythons\n"
     ]
    }
   ],
   "source": [
    "\n",
    "#2\n",
    "#========================================================\n",
    "statement_1 = input(\"Enter a sentence: \")\n",
    "statement_2 = statement_1.replace('python', 'pythons')\n",
    "print(\"Modified sentence:\", statement_2)\n"
   ]
  },
  {
   "cell_type": "code",
   "execution_count": 6,
   "id": "68b7a0ed",
   "metadata": {},
   "outputs": [
    {
     "name": "stdout",
     "output_type": "stream",
     "text": [
      "A\n"
     ]
    }
   ],
   "source": [
    "#3\n",
    "#==========================================================\n",
    "input1= float(input(\"Enter your marks\"))\n",
    "if 90 <= input1 <=100:\n",
    "    print(\"A\")\n",
    "elif input1 >= 80:\n",
    "    print(\"B\")\n",
    "elif input1 >= 70:\n",
    "    print(\"C\")\n",
    "elif input1 >= 60:\n",
    "    print(\"D\")\n",
    "else :\n",
    "    print(\"F\")\n"
   ]
  },
  {
   "cell_type": "code",
   "execution_count": null,
   "id": "df87fdf6",
   "metadata": {},
   "outputs": [],
   "source": []
  }
 ],
 "metadata": {
  "kernelspec": {
   "display_name": "Python 3 (ipykernel)",
   "language": "python",
   "name": "python3"
  },
  "language_info": {
   "codemirror_mode": {
    "name": "ipython",
    "version": 3
   },
   "file_extension": ".py",
   "mimetype": "text/x-python",
   "name": "python",
   "nbconvert_exporter": "python",
   "pygments_lexer": "ipython3",
   "version": "3.11.4"
  }
 },
 "nbformat": 4,
 "nbformat_minor": 5
}
