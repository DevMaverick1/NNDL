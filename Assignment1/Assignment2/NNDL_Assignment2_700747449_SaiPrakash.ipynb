{
 "cells": [
  {
   "cell_type": "code",
   "execution_count": 11,
   "metadata": {},
   "outputs": [
    {
     "name": "stdout",
     "output_type": "stream",
     "text": [
      "Str: Sai Prakash\n",
      "Output: SiPaah\n"
     ]
    }
   ],
   "source": [
    "def string_alternative(full_name):\n",
    "    result = \"\"\n",
    "    \n",
    "    for i in range(len(full_name)):\n",
    "        if i % 2 == 0:\n",
    "            result += full_name[i]\n",
    "    \n",
    "    return result\n",
    "\n",
    "def main():\n",
    "    first_name = input(\"Enter your first name: \")\n",
    "    last_name = input(\"Enter your last name: \")\n",
    "\n",
    "    full_name = first_name + \" \" + last_name\n",
    "\n",
    "    alt_chars = string_alternative(full_name)\n",
    "\n",
    "    print(f\"Str: {full_name}\")\n",
    "    print(f\"Output: {alt_chars}\")\n",
    "\n",
    "if __name__ == \"__main__\":\n",
    "    main()\n"
   ]
  },
  {
   "cell_type": "code",
   "execution_count": 14,
   "metadata": {},
   "outputs": [
    {
     "name": "stdout",
     "output_type": "stream",
     "text": [
      "Python Course\n",
      "\n",
      "Deep Learning Course\n",
      "\n",
      "Word_Count:\n",
      "\n",
      "Python: 1\n",
      "\n",
      "Course: 2\n",
      "\n",
      "Deep: 1\n",
      "\n",
      "Learning: 1\n",
      "\n"
     ]
    }
   ],
   "source": [
    "def count_words(line):\n",
    "    word_count = {}\n",
    "    words = line.split()\n",
    "    for word in words:\n",
    "        word = word.strip()\n",
    "        if word in word_count:\n",
    "            word_count[word] += 1\n",
    "        else:\n",
    "            word_count[word] = 1\n",
    "    return word_count\n",
    "\n",
    "with open(\"input.txt\", \"r\") as file:\n",
    "    lines = file.readlines()\n",
    "\n",
    "total_word_count = {}\n",
    "\n",
    "for line in lines:\n",
    "    word_count = count_words(line)\n",
    "    for word, count in word_count.items():\n",
    "        if word in total_word_count:\n",
    "            total_word_count[word] += count\n",
    "        else:\n",
    "            total_word_count[word] = count\n",
    "\n",
    "with open(\"output.txt\", \"w\") as output_file:\n",
    "    for line in lines:\n",
    "        output_file.write(line.strip() + \"\\n\")\n",
    "        print(line.strip() + \"\\n\")\n",
    "    print(\"Word_Count:\\n\")\n",
    "    output_file.write(\"Word_Count:\\n\")\n",
    "    for word, count in total_word_count.items():\n",
    "        output_file.write(f\"{word}: {count}\\n\")\n",
    "        print(f\"{word}: {count}\\n\")\n"
   ]
  },
  {
   "cell_type": "code",
   "execution_count": 10,
   "metadata": {},
   "outputs": [
    {
     "name": "stdout",
     "output_type": "stream",
     "text": [
      "Heights in Centimeters using nested Loop:\n",
      "[312.42, 314.96, 317.5]\n",
      "Heights in Centimeters using list comprehension:\n",
      "[312.42, 314.96, 317.5]\n"
     ]
    }
   ],
   "source": [
    "heights_inches = []\n",
    "\n",
    "while True:\n",
    "    height_input = input(\"Enter a height in inches (or 'done' to finish): \")\n",
    "    if height_input.lower() == 'done':\n",
    "        break\n",
    "    try:\n",
    "        height_inches = float(height_input)\n",
    "        heights_inches.append(height_inches)\n",
    "    except ValueError:\n",
    "        print(\"Invalid input. Please enter a valid number or 'done' to finish.\")\n",
    "\n",
    "heights_cm = []\n",
    "for height in heights_inches:\n",
    "    height_cm = height * 2.54\n",
    "    heights_cm.append(height_cm)\n",
    "\n",
    "heights_cm_list = [height * 2.54 for height in heights_inches]\n",
    "\n",
    "print(\"Heights in Centimeters using nested Loop:\")\n",
    "print (heights_cm)\n",
    "\n",
    "print(\"Heights in Centimeters using list comprehension:\")\n",
    "print(heights_cm_list)\n"
   ]
  }
 ],
 "metadata": {
  "kernelspec": {
   "display_name": "Python 3",
   "language": "python",
   "name": "python3"
  },
  "language_info": {
   "codemirror_mode": {
    "name": "ipython",
    "version": 3
   },
   "file_extension": ".py",
   "mimetype": "text/x-python",
   "name": "python",
   "nbconvert_exporter": "python",
   "pygments_lexer": "ipython3",
   "version": "3.11.4"
  },
  "orig_nbformat": 4
 },
 "nbformat": 4,
 "nbformat_minor": 2
}
